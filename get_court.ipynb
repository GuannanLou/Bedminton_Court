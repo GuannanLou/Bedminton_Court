{
 "cells": [
  {
   "cell_type": "code",
   "execution_count": 2,
   "metadata": {},
   "outputs": [
    {
     "name": "stdout",
     "output_type": "stream",
     "text": [
      "起始日期: 2025-02-12\n",
      "终止日期: 2025-03-14\n",
      "开始查询场地\n",
      "https://api.sport.sheffield.ac.uk/api/site/HO/activitygroup/BAD/activity/BADTN/slots?plus2Id=0&start=2025-02-12T00%3A00%3A00.000Z&end=2025-03-14T00%3A00%3A00.000Z&groupResources=true\n",
      "查询结果:\n"
     ]
    }
   ],
   "source": [
    "from datetime import datetime, timedelta, date\n",
    "import requests\n",
    "\n",
    "# 获取今天的日期\n",
    "today = datetime.today().date()\n",
    "print(\"起始日期:\", today)\n",
    "\n",
    "# 计算七天后的日期\n",
    "seven_days_later = today + timedelta(days=30)\n",
    "print(\"终止日期:\", seven_days_later)\n",
    "\n",
    "\n",
    "print('\\r开始查询场地')\n",
    "link = 'https://api.sport.sheffield.ac.uk/api/site/HO/activitygroup/BAD/activity/BADTN/slots'\n",
    "url = '{}?plus2Id=0&start={}T00%3A00%3A00.000Z&end={}T00%3A00%3A00.000Z&groupResources=true'.format(link, today, seven_days_later)\n",
    "print(url)\n",
    "courts = requests.get(url).text\n",
    "courts = courts.replace('false', 'False')\n",
    "courts = courts.replace('true', 'True')\n",
    "courts = eval(courts)\n",
    "\n",
    "print('\\r查询结果:')\n",
    "time_threshold = 19\n",
    "filted_courts = []\n",
    "for court in courts:\n",
    "    filted = False\n",
    "    if int(court['start'].split('T')[1].split(':')[0]) < time_threshold: filted = True\n",
    "    if court['available'] == 0: filted = True\n",
    "    if not filted:\n",
    "        filted_courts.append(court)\n",
    "\n",
    "weekday_dict = ['Mon', 'Tue', 'Wen', 'Thu', 'Fri', 'Sat', 'Sun']\n",
    "\n",
    "current = None\n",
    "for court in filted_courts:\n",
    "    if court['start'].split('T')[0] != current:\n",
    "        current = court['start'].split('T')[0]\n",
    "        print(current, weekday_dict[date(int(current.split('-')[0]), int(current.split('-')[1]), int(current.split('-')[2])).weekday()])\n",
    "    print('\\t{}    available: {}'.format(court['start'].split('T')[1], str(court['available'])))"
   ]
  },
  {
   "cell_type": "code",
   "execution_count": 6,
   "metadata": {},
   "outputs": [
    {
     "data": {
      "text/plain": [
       "[]"
      ]
     },
     "execution_count": 6,
     "metadata": {},
     "output_type": "execute_result"
    }
   ],
   "source": [
    "filted_courts"
   ]
  },
  {
   "cell_type": "code",
   "execution_count": null,
   "metadata": {},
   "outputs": [
    {
     "name": "stdout",
     "output_type": "stream",
     "text": [
      "2024-12-18\n",
      "\t19:00:00    available: 4\n",
      "\t20:00:00    available: 3\n",
      "\t21:00:00    available: 4\n",
      "2024-12-20\n",
      "\t20:00:00    available: 4\n",
      "\t21:00:00    available: 4\n",
      "2024-12-23\n",
      "\t19:00:00    available: 1\n",
      "\t21:00:00    available: 4\n"
     ]
    }
   ],
   "source": []
  }
 ],
 "metadata": {
  "kernelspec": {
   "display_name": "Python 3",
   "language": "python",
   "name": "python3"
  },
  "language_info": {
   "codemirror_mode": {
    "name": "ipython",
    "version": 3
   },
   "file_extension": ".py",
   "mimetype": "text/x-python",
   "name": "python",
   "nbconvert_exporter": "python",
   "pygments_lexer": "ipython3",
   "version": "3.8.10"
  }
 },
 "nbformat": 4,
 "nbformat_minor": 2
}
